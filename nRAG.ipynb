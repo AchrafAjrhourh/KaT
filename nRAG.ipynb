{
 "cells": [
  {
   "cell_type": "code",
   "execution_count": 1,
   "metadata": {},
   "outputs": [],
   "source": [
    "import os\n",
    "import dotenv\n",
    "\n",
    "dotenv.load_dotenv()\n",
    "try:\n",
    "    os.environ[\"OPENAI_API_KEY\"]\n",
    "except KeyError:\n",
    "    raise Exception(\"OPENAI_API_KEY is not set in your .env file\")"
   ]
  },
  {
   "cell_type": "code",
   "execution_count": 2,
   "metadata": {},
   "outputs": [],
   "source": [
    "import sqlite3\n",
    "\n",
    "# Connect to the SQLite database and load descriptions\n",
    "conn = sqlite3.connect('videos.db')\n",
    "cursor = conn.cursor()\n",
    "# Execute the SQL query to fetch descriptions and categories\n",
    "cursor.execute(\"SELECT Title, Chapter FROM VideoChapters\")\n",
    "rows = cursor.fetchall()\n",
    "# Extract descriptions and categories from the query result\n",
    "titles = [row[0] for row in rows]\n",
    "chapters = [row[1] for row in rows]\n",
    "# Close the connection\n",
    "conn.close()"
   ]
  },
  {
   "cell_type": "code",
   "execution_count": 3,
   "metadata": {},
   "outputs": [],
   "source": [
    "class Document:\n",
    "    def __init__(self, page_content, metadata):\n",
    "        self.page_content = page_content\n",
    "        self.metadata = metadata\n",
    "\n",
    "    def __repr__(self):\n",
    "        return f\"Document(page_content='{self.page_content}', metadata={self.metadata})\""
   ]
  },
  {
   "cell_type": "code",
   "execution_count": 4,
   "metadata": {},
   "outputs": [
    {
     "name": "stdout",
     "output_type": "stream",
     "text": [
      "[Document(page_content='Title: أسرع وأسهل طريقة لضرب أي عدد في 11؟ - الحساب الذهني, Chapter: No chapter', metadata={'has_chapter': False}), Document(page_content='Title: هل يمكنك جعل ثلاثة أصفار تساوي 6؟ - حل لغز العدد 6 للأذكياء, Chapter: No chapter', metadata={'has_chapter': False}), Document(page_content='Title: كم تبلغ مساحة القطاع الأزرق داخل هذا القرص؟ - تمارين وحلول, Chapter: No chapter', metadata={'has_chapter': False}), Document(page_content='Title: الدوال كمفهوم - الدالة ومكوناتها - الجزء الأول, Chapter: No chapter', metadata={'has_chapter': False}), Document(page_content='Title: الدوال كمفهوم - الدالة ومكوناتها - الجزء الأول, Chapter: No chapter', metadata={'has_chapter': False}), Document(page_content='Title: الدوال كمفهوم - قصور الدالة - الجزء الثاني, Chapter: No chapter', metadata={'has_chapter': False}), Document(page_content='Title: الدوال كمفهوم - الغير معرف - الجزء الثالث, Chapter: No chapter', metadata={'has_chapter': False}), Document(page_content='Title: الحلقة 1: مقدمة إلى البرهان الرياضياتي, Chapter: مقدمة السلسلة', metadata={'has_chapter': True}), Document(page_content='Title: الحلقة 1: مقدمة إلى البرهان الرياضياتي, Chapter: التقديم', metadata={'has_chapter': True}), Document(page_content='Title: الحلقة 1: مقدمة إلى البرهان الرياضياتي, Chapter: شرح البراهين', metadata={'has_chapter': True}), Document(page_content='Title: الحلقة 1: مقدمة إلى البرهان الرياضياتي, Chapter: شرح التعريفات', metadata={'has_chapter': True}), Document(page_content='Title: الحلقة 1: مقدمة إلى البرهان الرياضياتي, Chapter: تنبيه', metadata={'has_chapter': True}), Document(page_content='Title: الحلقة 1: مقدمة إلى البرهان الرياضياتي, Chapter: شرح البديهيات', metadata={'has_chapter': True}), Document(page_content='Title: الحلقة 1: مقدمة إلى البرهان الرياضياتي, Chapter: شرح المبرهنات', metadata={'has_chapter': True}), Document(page_content='Title: الحلقة 1: مقدمة إلى البرهان الرياضياتي, Chapter: شرح الليمات', metadata={'has_chapter': True}), Document(page_content='Title: الحلقة 1: مقدمة إلى البرهان الرياضياتي, Chapter: شرح الاستنتاجات', metadata={'has_chapter': True}), Document(page_content='Title: الحلقة 1: مقدمة إلى البرهان الرياضياتي, Chapter: خاتمة', metadata={'has_chapter': True})]\n"
     ]
    }
   ],
   "source": [
    "# Convert rows to Document objects\n",
    "docs = []\n",
    "for title, chapter in rows:\n",
    "    # Determine if the chapter is present\n",
    "    has_chapter = chapter is not None\n",
    "    \n",
    "    # Create a Document object for each row\n",
    "    doc = Document(\n",
    "        page_content=f\"Title: {title}, Chapter: {chapter if has_chapter else 'No chapter'}\",\n",
    "        metadata={\"has_chapter\": has_chapter}\n",
    "    )\n",
    "    docs.append(doc)\n",
    "\n",
    "print(docs)"
   ]
  },
  {
   "cell_type": "code",
   "execution_count": 6,
   "metadata": {},
   "outputs": [],
   "source": [
    "from langchain_community.vectorstores.chroma import Chroma\n",
    "from langchain_openai import OpenAIEmbeddings\n",
    "\n",
    "\n",
    "db = Chroma.from_documents(docs, OpenAIEmbeddings())"
   ]
  },
  {
   "cell_type": "code",
   "execution_count": 23,
   "metadata": {},
   "outputs": [],
   "source": [
    "from langchain.retrievers.self_query.base import SelfQueryRetriever\n",
    "from langchain.chains.query_constructor.base import AttributeInfo\n",
    "from langchain_openai import ChatOpenAI\n",
    "\n",
    "\n",
    "metadata_field_info = [\n",
    "    AttributeInfo(\n",
    "        name=\"has_chapter\",\n",
    "        description=\"Indicates whether the video title contains chapters. If 'True', chapters are present, which detail the main topics or sections of the video. If 'False', the video does not contain any chapters.\",\n",
    "        type=\"boolean\",\n",
    "    )\n",
    "]\n",
    "\n",
    "document_content_description = \"Titles of videos with their corresponding chapters.\"\n",
    "\n",
    "llm = ChatOpenAI(model_name=\"gpt-3.5-turbo\", temperature=0)\n",
    "\n",
    "first_retriever = SelfQueryRetriever.from_llm(\n",
    "    llm,\n",
    "    db,\n",
    "    document_content_description,\n",
    "    metadata_field_info,\n",
    "    enable_limit=True,\n",
    "    verbose=True,\n",
    "    search_kwargs={\"k\": 1},\n",
    ")"
   ]
  },
  {
   "cell_type": "code",
   "execution_count": 33,
   "metadata": {},
   "outputs": [],
   "source": [
    "# Combine context and question into a single query string\n",
    "query = \"فيديو يتحدث عن البديهيات\""
   ]
  },
  {
   "cell_type": "code",
   "execution_count": 42,
   "metadata": {},
   "outputs": [
    {
     "data": {
      "text/plain": [
       "[Document(page_content='Title: الحلقة 1: مقدمة إلى البرهان الرياضياتي, Chapter: شرح البديهيات', metadata={'has_chapter': True})]"
      ]
     },
     "execution_count": 42,
     "metadata": {},
     "output_type": "execute_result"
    }
   ],
   "source": [
    "first_result = first_retriever.invoke({\"query\": query})\n",
    "first_result"
   ]
  },
  {
   "cell_type": "code",
   "execution_count": 30,
   "metadata": {},
   "outputs": [],
   "source": [
    "# from langchain.prompts import PromptTemplate\n",
    "\n",
    "# # Define your custom prompt template for retrieving video data\n",
    "# custom_prompt_template = PromptTemplate.from_template(\n",
    "#     \"\"\"Given the following question, return the exact video title in Arabic and relevant metadata (chapter).\n",
    "#     Do a keyword search first then a semantic search.\n",
    "#     If more than one document has been used, separate them with ONLY new line \\n.\n",
    "#     You should at least retrieve ONE document.\n",
    "#     If you didn't find any relevant document, retrieve the closest one to the question, based on chapters and content.\n",
    "#     Don't retrieve the same video document twice.\n",
    "#     Context: \n",
    "#     {context}\n",
    "#     Each document in the context is presented with Title followed by its chapter in the metadata.\n",
    "#     Question: {question}\n",
    "#     Answer:\"\"\"\n",
    "# )\n",
    "\n",
    "# # Assuming 'vectorstore' is properly set up for videos\n",
    "# second_retriever = db.as_retriever(\n",
    "#     search_type=\"mmr\", search_kwargs={\n",
    "#         \"fetch_k\": 10, \n",
    "#         \"lambda_mult\": 0.8\n",
    "#     }\n",
    "# )\n",
    "\n",
    "# # Modify the format_docs function to accept the documents list\n",
    "# def format_docs(docs):\n",
    "#     formatted_docs = []\n",
    "#     for i, doc in enumerate(docs, start=1):\n",
    "#         doc_description = f\"Document {i}:\\nTitle: {doc.page_content}\"\n",
    "#         doc_chapter = f\"Chapter: {doc.metadata.get('chapter', 'N/A')}\"  # Use 'N/A' if 'chapter' is not found\n",
    "#         formatted_doc = f\"{doc_description}\\n{doc_chapter}\\n-----\"\n",
    "#         formatted_docs.append(formatted_doc)\n",
    "#     return \"\\n\".join(formatted_docs)\n"
   ]
  },
  {
   "cell_type": "code",
   "execution_count": 34,
   "metadata": {},
   "outputs": [
    {
     "name": "stdout",
     "output_type": "stream",
     "text": [
      "Title: الحلقة 1: مقدمة إلى البرهان الرياضياتي, Chapter: شرح البديهيات\n"
     ]
    }
   ],
   "source": [
    "# from langchain_core.runnables import RunnablePassthrough\n",
    "# from langchain_core.output_parsers import StrOutputParser\n",
    "\n",
    "# rag_chain = (\n",
    "#     {\"context\": second_retriever | format_docs, \"question\": RunnablePassthrough()}\n",
    "#     | custom_prompt_template\n",
    "#     | llm\n",
    "#     | StrOutputParser()\n",
    "# )\n",
    "\n",
    "# output = rag_chain.invoke(query)\n",
    "# print(output)"
   ]
  },
  {
   "cell_type": "code",
   "execution_count": 36,
   "metadata": {},
   "outputs": [
    {
     "name": "stdout",
     "output_type": "stream",
     "text": [
      "sqlite\n",
      "['VideoChapters']\n"
     ]
    }
   ],
   "source": [
    "from langchain_community.utilities.sql_database import SQLDatabase\n",
    "from langchain.chains import create_sql_query_chain\n",
    "\n",
    "db = SQLDatabase.from_uri(\"sqlite:///videos.db\")\n",
    "print(db.dialect)\n",
    "print(db.get_usable_table_names())\n",
    "# Connect to the SQLite database for SQL query execution\n",
    "sql_chain = create_sql_query_chain(llm, db)"
   ]
  },
  {
   "cell_type": "code",
   "execution_count": 43,
   "metadata": {},
   "outputs": [
    {
     "name": "stdout",
     "output_type": "stream",
     "text": [
      "SELECT Title, Link FROM VideoChapters WHERE Title = 'الحلقة 1: مقدمة إلى البرهان الرياضياتي' AND Chapter = 'شرح البديهيات'\n",
      "[('الحلقة 1: مقدمة إلى البرهان الرياضياتي', 'https://youtu.be/3ZsosFpV410&t=160')]\n"
     ]
    }
   ],
   "source": [
    "import ast\n",
    "\n",
    "# Function to extract title and chapter from the page_content\n",
    "def extract_title_and_chapter(page_content):\n",
    "    # Assuming the format is 'Title: <title>, Chapter: <chapter>'\n",
    "    title_part, chapter_part = page_content.split(\", Chapter: \")\n",
    "    title = title_part.split(\"Title: \")[1]\n",
    "    chapter = chapter_part\n",
    "    return title, chapter\n",
    "\n",
    "sql_outputs = []\n",
    "for document in first_result:\n",
    "    title, chapter = extract_title_and_chapter(document.page_content)\n",
    "    # Dynamically construct SQL query\n",
    "    sql_query = f\"SELECT Title, Link FROM VideoChapters WHERE Title = '{title}' AND Chapter = '{chapter}'\"\n",
    "    sql_output = db.run(sql_query)\n",
    "    print(sql_query)\n",
    "    try:\n",
    "        parsed_output = ast.literal_eval(sql_output)\n",
    "        if isinstance(parsed_output, list):\n",
    "            for record in parsed_output:\n",
    "                # Assuming record format is correct and contains all needed fields\n",
    "                merged_answer = f\"{record[0]} {record[1]}\"\n",
    "                sql_outputs.append(merged_answer)\n",
    "        else:\n",
    "            print(f\"Unexpected format: {sql_output}\")\n",
    "    except (ValueError, SyntaxError):\n",
    "        print(f\"Could not parse output: {sql_output}\")\n",
    "    print(sql_output)"
   ]
  }
 ],
 "metadata": {
  "kernelspec": {
   "display_name": "Python 3",
   "language": "python",
   "name": "python3"
  },
  "language_info": {
   "codemirror_mode": {
    "name": "ipython",
    "version": 3
   },
   "file_extension": ".py",
   "mimetype": "text/x-python",
   "name": "python",
   "nbconvert_exporter": "python",
   "pygments_lexer": "ipython3",
   "version": "3.10.11"
  }
 },
 "nbformat": 4,
 "nbformat_minor": 2
}
