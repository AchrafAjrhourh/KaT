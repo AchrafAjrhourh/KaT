{
 "cells": [
  {
   "cell_type": "code",
   "execution_count": 86,
   "metadata": {},
   "outputs": [],
   "source": [
    "import os\n",
    "import dotenv\n",
    "\n",
    "dotenv.load_dotenv()\n",
    "try:\n",
    "    os.environ[\"OPENAI_API_KEY\"]\n",
    "except KeyError:\n",
    "    raise Exception(\"OPENAI_API_KEY is not set in your .env file\")"
   ]
  },
  {
   "cell_type": "code",
   "execution_count": 87,
   "metadata": {},
   "outputs": [],
   "source": [
    "import sqlite3\n",
    "\n",
    "# Connect to the SQLite database and load descriptions\n",
    "conn = sqlite3.connect('videos.db')\n",
    "cursor = conn.cursor()\n",
    "# Execute the SQL query to fetch descriptions and categories\n",
    "cursor.execute(\"SELECT Title, Chapter FROM VideoChapters\")\n",
    "rows = cursor.fetchall()\n",
    "# Extract descriptions and categories from the query result\n",
    "titles = [row[0] for row in rows]\n",
    "chapters = [row[1] for row in rows]\n",
    "# Close the connection\n",
    "conn.close()"
   ]
  },
  {
   "cell_type": "code",
   "execution_count": 88,
   "metadata": {},
   "outputs": [],
   "source": [
    "class Document:\n",
    "    def __init__(self, page_content, metadata):\n",
    "        self.page_content = page_content\n",
    "        self.metadata = metadata\n",
    "\n",
    "    def __repr__(self):\n",
    "        return f\"Document(page_content='{self.page_content}', metadata={self.metadata})\""
   ]
  },
  {
   "cell_type": "code",
   "execution_count": 89,
   "metadata": {},
   "outputs": [
    {
     "name": "stdout",
     "output_type": "stream",
     "text": [
      "[Document(page_content='Title: أسرع وأسهل طريقة لضرب أي عدد في 11؟ - الحساب الذهني, Chapter: No chapter', metadata={'has_chapter': False}), Document(page_content='Title: هل يمكنك جعل ثلاثة أصفار تساوي 6؟ - حل لغز العدد 6 للأذكياء, Chapter: No chapter', metadata={'has_chapter': False}), Document(page_content='Title: كم تبلغ مساحة القطاع الأزرق داخل هذا القرص؟ - تمارين وحلول, Chapter: No chapter', metadata={'has_chapter': False}), Document(page_content='Title: الدوال كمفهوم - الدالة ومكوناتها - الجزء الأول, Chapter: No chapter', metadata={'has_chapter': False}), Document(page_content='Title: الدوال كمفهوم - الدالة ومكوناتها - الجزء الأول, Chapter: No chapter', metadata={'has_chapter': False}), Document(page_content='Title: الدوال كمفهوم - قصور الدالة - الجزء الثاني, Chapter: No chapter', metadata={'has_chapter': False}), Document(page_content='Title: الدوال كمفهوم - الغير معرف - الجزء الثالث, Chapter: No chapter', metadata={'has_chapter': False}), Document(page_content='Title: الحلقة 1: مقدمة إلى البرهان الرياضياتي, Chapter: التقديم', metadata={'has_chapter': True}), Document(page_content='Title: الحلقة 1: مقدمة إلى البرهان الرياضياتي, Chapter: تنبيه', metadata={'has_chapter': True}), Document(page_content='Title: الحلقة 1: مقدمة إلى البرهان الرياضياتي, Chapter: خاتمة', metadata={'has_chapter': True}), Document(page_content='Title: الحلقة 1: مقدمة إلى البرهان الرياضياتي, Chapter: شرح الاستنتاجات', metadata={'has_chapter': True}), Document(page_content='Title: الحلقة 1: مقدمة إلى البرهان الرياضياتي, Chapter: شرح البديهيات', metadata={'has_chapter': True}), Document(page_content='Title: الحلقة 1: مقدمة إلى البرهان الرياضياتي, Chapter: شرح البراهين', metadata={'has_chapter': True}), Document(page_content='Title: الحلقة 1: مقدمة إلى البرهان الرياضياتي, Chapter: شرح التعريفات', metadata={'has_chapter': True}), Document(page_content='Title: الحلقة 1: مقدمة إلى البرهان الرياضياتي, Chapter: شرح الليمات', metadata={'has_chapter': True}), Document(page_content='Title: الحلقة 1: مقدمة إلى البرهان الرياضياتي, Chapter: شرح المبرهنات', metadata={'has_chapter': True}), Document(page_content='Title: الحلقة 1: مقدمة إلى البرهان الرياضياتي, Chapter: مقدمة السلسلة', metadata={'has_chapter': True}), Document(page_content='Title: الدوال كمفهوم - شرط تحقق الدالة - الجزء الرابع, Chapter: No chapter', metadata={'has_chapter': False}), Document(page_content='Title: الدوال كمفهوم - صورة الدالة - الجزء الخامس, Chapter: No chapter', metadata={'has_chapter': False}), Document(page_content='Title: الدوال كمفهوم - من النظري إلى التطبيقي - الجزء السادس, Chapter: أول مثال', metadata={'has_chapter': True}), Document(page_content='Title: الدوال كمفهوم - من النظري إلى التطبيقي - الجزء السادس, Chapter: المعلم الديكارتي', metadata={'has_chapter': True}), Document(page_content='Title: الدوال كمفهوم - من النظري إلى التطبيقي - الجزء السادس, Chapter: ثالث مثال', metadata={'has_chapter': True}), Document(page_content='Title: الدوال كمفهوم - من النظري إلى التطبيقي - الجزء السادس, Chapter: ثاني مثال', metadata={'has_chapter': True}), Document(page_content='Title: الدوال كمفهوم - من النظري إلى التطبيقي - الجزء السادس, Chapter: مجموعة التعريف ومجموعة الوصول', metadata={'has_chapter': True}), Document(page_content='Title: أسرع وأسهل طريقة لضرب أي عدد في 11؟ - الحساب الذهني, Chapter: No chapter', metadata={'has_chapter': False}), Document(page_content='Title: كيف تحسب القيمة العددية لهذا الجداء بسهولة وبسرعة؟ - تمارين وحلول, Chapter: No chapter', metadata={'has_chapter': False}), Document(page_content='Title: حساب القطعة البنفسجية في الدائرة - لا تغفل عما هو واضح - تمارين وحلول, Chapter: No chapter', metadata={'has_chapter': False}), Document(page_content='Title: كيفية رسم النجمة الخماسية في راية المغرب عن طريق الدوائر - رسم وهندسة, Chapter: No chapter', metadata={'has_chapter': False}), Document(page_content='Title: الحلقة 2: الحدسيات في الرياضيات, Chapter: تنبيه', metadata={'has_chapter': True}), Document(page_content='Title: الحلقة 2: الحدسيات في الرياضيات, Chapter: حدسية غولدباخ', metadata={'has_chapter': True}), Document(page_content='Title: الحلقة 2: الحدسيات في الرياضيات, Chapter: حدسية فيرما', metadata={'has_chapter': True}), Document(page_content='Title: الحلقة 2: الحدسيات في الرياضيات, Chapter: خاتمة', metadata={'has_chapter': True}), Document(page_content='Title: الحلقة 2: الحدسيات في الرياضيات, Chapter: مقدمة', metadata={'has_chapter': True}), Document(page_content='Title: حساب القطعة الحمراء بأقل المعطيات - تمرين للأولمبياد, Chapter: No chapter', metadata={'has_chapter': False}), Document(page_content='Title: ماهية المجالات في الرياضيات - أنواع المجالات: المغلق والمفتوح, Chapter: أنواع أخرى للمجالات', metadata={'has_chapter': True}), Document(page_content='Title: ماهية المجالات في الرياضيات - أنواع المجالات: المغلق والمفتوح, Chapter: التعبير الرياضياتي للمجال المغلق', metadata={'has_chapter': True}), Document(page_content='Title: ماهية المجالات في الرياضيات - أنواع المجالات: المغلق والمفتوح, Chapter: الخط الحقيقي', metadata={'has_chapter': True}), Document(page_content='Title: ماهية المجالات في الرياضيات - أنواع المجالات: المغلق والمفتوح, Chapter: الكتابة المختصرة للمجال', metadata={'has_chapter': True}), Document(page_content='Title: ماهية المجالات في الرياضيات - أنواع المجالات: المغلق والمفتوح, Chapter: المجال المفتوح', metadata={'has_chapter': True}), Document(page_content='Title: ماهية المجالات في الرياضيات - أنواع المجالات: المغلق والمفتوح, Chapter: تحديد المجال', metadata={'has_chapter': True}), Document(page_content='Title: ماهية المجالات في الرياضيات - أنواع المجالات: المغلق والمفتوح, Chapter: سؤال الحلقة', metadata={'has_chapter': True}), Document(page_content='Title: ماهية المجالات في الرياضيات - أنواع المجالات: المغلق والمفتوح, Chapter: مجالات معتادة', metadata={'has_chapter': True}), Document(page_content='Title: مجموعة تعريف الدوال: شروطها وكيفية تحديدها, Chapter: خاتمة', metadata={'has_chapter': True}), Document(page_content='Title: مجموعة تعريف الدوال: شروطها وكيفية تحديدها, Chapter: شروط مجموعة التعريف', metadata={'has_chapter': True}), Document(page_content='Title: مجموعة تعريف الدوال: شروطها وكيفية تحديدها, Chapter: مثال لتحديد مجموعة التعريف', metadata={'has_chapter': True}), Document(page_content='Title: حساب المتساوية باستعمال قواعد المجموعات -  تمارين وحلول, Chapter: No chapter', metadata={'has_chapter': False}), Document(page_content='Title: الحلقة 3: أهمية البديهيات, Chapter: أزمة الأسس', metadata={'has_chapter': True}), Document(page_content='Title: الحلقة 3: أهمية البديهيات, Chapter: أقليدس وبديهيات الهندسة', metadata={'has_chapter': True}), Document(page_content='Title: الحلقة 3: أهمية البديهيات, Chapter: البديهيات الخمسة لأقليدس', metadata={'has_chapter': True}), Document(page_content='Title: الحلقة 3: أهمية البديهيات, Chapter: البديهية الخامسة - مسلمة التوازي', metadata={'has_chapter': True}), Document(page_content='Title: الحلقة 3: أهمية البديهيات, Chapter: الخاتمة', metadata={'has_chapter': True}), Document(page_content='Title: الحلقة 3: أهمية البديهيات, Chapter: الخلاصة', metadata={'has_chapter': True}), Document(page_content='Title: الحلقة 3: أهمية البديهيات, Chapter: الهندسة الاهليليجية', metadata={'has_chapter': True}), Document(page_content='Title: الحلقة 3: أهمية البديهيات, Chapter: الهندسة الزائدية', metadata={'has_chapter': True}), Document(page_content='Title: الحلقة 3: أهمية البديهيات, Chapter: انتباه', metadata={'has_chapter': True}), Document(page_content='Title: الحلقة 3: أهمية البديهيات, Chapter: مبرهنات عدم الاكتمال لغودل', metadata={'has_chapter': True}), Document(page_content='Title: الحلقة 3: أهمية البديهيات, Chapter: مسلمة بلايفير', metadata={'has_chapter': True}), Document(page_content='Title: الحلقة 3: أهمية البديهيات, Chapter: مسلمة بلايفير - تتمة', metadata={'has_chapter': True}), Document(page_content='Title: النهايات - مقدمة - الجزء الأول, Chapter: الإحداثيات في المعلم الديكارتي', metadata={'has_chapter': True}), Document(page_content='Title: النهايات - مقدمة - الجزء الأول, Chapter: العمل على دالة تآلفية', metadata={'has_chapter': True}), Document(page_content='Title: النهايات - مقدمة - الجزء الأول, Chapter: سؤال نهاية الحلقة حول النهايات', metadata={'has_chapter': True}), Document(page_content='Title: النهايات - مقدمة - الجزء الأول, Chapter: ماهية المستقيم', metadata={'has_chapter': True}), Document(page_content='Title: النهايات - مقدمة - الجزء الأول, Chapter: مقدمة إلى المعلم الديكارتي', metadata={'has_chapter': True}), Document(page_content='Title: النهايات - التعريف - الجزء الثاني, Chapter: القاعدة النهائية للتعريف الخاص بالنهايات', metadata={'has_chapter': True}), Document(page_content='Title: النهايات - التعريف - الجزء الثاني, Chapter: تعويض قيم قريبة من النقطة الغير معرفة', metadata={'has_chapter': True}), Document(page_content='Title: النهايات - التعريف - الجزء الثاني, Chapter: كتابة اللعبة رياضياتيا', metadata={'has_chapter': True}), Document(page_content='Title: النهايات - التعريف - الجزء الثاني, Chapter: لعبة النهايات', metadata={'has_chapter': True}), Document(page_content='Title: النهايات - التعريف - الجزء الثاني, Chapter: مقدمة', metadata={'has_chapter': True}), Document(page_content='Title: الحلقة 4: حساب القضايا - المنطق, Chapter: أمثلة عن القضايا وقيمة حقيقتها', metadata={'has_chapter': True}), Document(page_content='Title: الحلقة 4: حساب القضايا - المنطق, Chapter: الجبر البولياني', metadata={'has_chapter': True}), Document(page_content='Title: الحلقة 4: حساب القضايا - المنطق, Chapter: الخاتمة', metadata={'has_chapter': True}), Document(page_content='Title: الحلقة 4: حساب القضايا - المنطق, Chapter: انتباه', metadata={'has_chapter': True}), Document(page_content='Title: الحلقة 4: حساب القضايا - المنطق, Chapter: حساب القضايا', metadata={'has_chapter': True}), Document(page_content='Title: الحلقة 4: حساب القضايا - المنطق, Chapter: مقدمة عن جورج بول', metadata={'has_chapter': True}), Document(page_content='Title: متراجحة المثلث, Chapter: No chapter', metadata={'has_chapter': False}), Document(page_content='Title: النهايات - النهاية على اليمين وعلى اليسار - الجزء الثالث, Chapter: القاعدة العامة لتساوي النهاية على اليمين واليسار', metadata={'has_chapter': True}), Document(page_content='Title: النهايات - النهاية على اليمين وعلى اليسار - الجزء الثالث, Chapter: النهاية على اليمين وعلى اليسار غير متساويتين', metadata={'has_chapter': True}), Document(page_content='Title: النهايات - النهاية على اليمين وعلى اليسار - الجزء الثالث, Chapter: النهاية على اليمين وعلى اليسار متساويتين', metadata={'has_chapter': True}), Document(page_content='Title: النهايات - النهاية على اليمين وعلى اليسار - الجزء الثالث, Chapter: تمثيل دالة مجزأة', metadata={'has_chapter': True}), Document(page_content='Title: النهايات - النهاية على اليمين وعلى اليسار - الجزء الثالث, Chapter: مثال لدالة مجزأة', metadata={'has_chapter': True}), Document(page_content='Title: حل المعادلة الدالية || تمرين الأولمبياد, Chapter: No chapter', metadata={'has_chapter': False}), Document(page_content='Title: حساب مجموع دوال مثلثية || تمرين قبول جامعة أوكسفورد, Chapter: No chapter', metadata={'has_chapter': False}), Document(page_content='Title: الحلقة 5: الروابط المنطقية وجدول الحقيقة, Chapter: العطف', metadata={'has_chapter': True}), Document(page_content='Title: الحلقة 5: الروابط المنطقية وجدول الحقيقة, Chapter: الفاصل الإحتوائي', metadata={'has_chapter': True}), Document(page_content='Title: الحلقة 5: الروابط المنطقية وجدول الحقيقة, Chapter: الفاصل الإقصائي', metadata={'has_chapter': True}), Document(page_content='Title: الحلقة 5: الروابط المنطقية وجدول الحقيقة, Chapter: النفي', metadata={'has_chapter': True}), Document(page_content='Title: الحلقة 5: الروابط المنطقية وجدول الحقيقة, Chapter: انترو', metadata={'has_chapter': True}), Document(page_content='Title: الحلقة 5: الروابط المنطقية وجدول الحقيقة, Chapter: تذكير', metadata={'has_chapter': True}), Document(page_content='Title: الحلقة 5: الروابط المنطقية وجدول الحقيقة, Chapter: حساب القضايا', metadata={'has_chapter': True}), Document(page_content='Title: أسهل تمرين في أصعب امتحان | بوتنام 2002, Chapter: No chapter', metadata={'has_chapter': False}), Document(page_content='Title: مباراة ENSA - حساب النهايات, Chapter: No chapter', metadata={'has_chapter': False}), Document(page_content='Title: مباراة ENSAM 2016 السؤال الأول - حساب النهايات, Chapter: No chapter', metadata={'has_chapter': False}), Document(page_content='Title: مباراة ENSA 2021 السؤال الخامس, Chapter: No chapter', metadata={'has_chapter': False}), Document(page_content='Title: مباراة ENSAM 2016 السؤال الثامن, Chapter: No chapter', metadata={'has_chapter': False}), Document(page_content='Title: مباراة ISCAE 2018 السؤال الرابع, Chapter: No chapter', metadata={'has_chapter': False}), Document(page_content='Title: مباراة ENSAM 2019 السؤال الخامس والعشرون, Chapter: No chapter', metadata={'has_chapter': False}), Document(page_content='Title: مباراة ISCAE 2018 السؤال السابع, Chapter: No chapter', metadata={'has_chapter': False}), Document(page_content='Title: مباراة ولوج كلية الطب 2021 السؤال 63, Chapter: No chapter', metadata={'has_chapter': False}), Document(page_content='Title: مباراة ENSAM 2012 السؤال التاسع, Chapter: No chapter', metadata={'has_chapter': False}), Document(page_content='Title: مباراة ENSA 2021 السؤال الثالث, Chapter: No chapter', metadata={'has_chapter': False}), Document(page_content='Title: مباراة مدرسة التميز LYDEX السؤال الثاني, Chapter: No chapter', metadata={'has_chapter': False}), Document(page_content='Title: مباراة ENSA 2021 السؤال الثاني, Chapter: No chapter', metadata={'has_chapter': False}), Document(page_content='Title: مباراة ENSAM 2015 السؤال الخامس عشر, Chapter: No chapter', metadata={'has_chapter': False}), Document(page_content='Title: مباراة مدرسة التميز LYDEX السؤال الرابع, Chapter: No chapter', metadata={'has_chapter': False}), Document(page_content='Title: مباراة ISCAE 2018 السؤال الأخير, Chapter: No chapter', metadata={'has_chapter': False}), Document(page_content='Title: مباراة ENSA 2021 السؤال التاسع, Chapter: No chapter', metadata={'has_chapter': False}), Document(page_content='Title: الاستعداد للمباريات - التمرين الأول, Chapter: No chapter', metadata={'has_chapter': False}), Document(page_content='Title: الاستعداد للمباريات - التمرين الثاني, Chapter: No chapter', metadata={'has_chapter': False}), Document(page_content='Title: الاستعداد للمباريات - التمرين الثالث, Chapter: No chapter', metadata={'has_chapter': False}), Document(page_content='Title: كيف تبرهن على تساوي مجموعتين, Chapter: No chapter', metadata={'has_chapter': False}), Document(page_content='Title: أسطورة السؤال السادس - قفز فييتا, Chapter: No chapter', metadata={'has_chapter': False}), Document(page_content='Title: الاتصال (الاستمرارية) - مقدمة - الجزء الأول, Chapter: No chapter', metadata={'has_chapter': False}), Document(page_content='Title: الاتصال (الاستمرارية) - الاتصال في نقطة - الجزء الثاني, Chapter: العمليات على الدوال المتصلة', metadata={'has_chapter': True}), Document(page_content='Title: الاتصال (الاستمرارية) - الاتصال في نقطة - الجزء الثاني, Chapter: دالة غير متصلة 1', metadata={'has_chapter': True}), Document(page_content='Title: الاتصال (الاستمرارية) - الاتصال في نقطة - الجزء الثاني, Chapter: دالة غير متصلة 2', metadata={'has_chapter': True}), Document(page_content='Title: الاتصال (الاستمرارية) - الاتصال في نقطة - الجزء الثاني, Chapter: دالة متصلة', metadata={'has_chapter': True}), Document(page_content='Title: الاتصال (الاستمرارية) - الاتصال في نقطة - الجزء الثاني, Chapter: دراسة الدالة المتصلة', metadata={'has_chapter': True}), Document(page_content='Title: الاتصال (الاستمرارية) - الاتصال في نقطة - الجزء الثاني, Chapter: دراسة الدالة غير المتصلة 1', metadata={'has_chapter': True}), Document(page_content='Title: الاتصال (الاستمرارية) - الاتصال في نقطة - الجزء الثاني, Chapter: دراسة الدالة غير المتصلة 2', metadata={'has_chapter': True}), Document(page_content='Title: الاتصال (الاستمرارية) - الاتصال في نقطة - الجزء الثاني, Chapter: سؤال نهاية الحلقة', metadata={'has_chapter': True}), Document(page_content='Title: الاتصال (الاستمرارية) - الاتصال في نقطة - الجزء الثاني, Chapter: قاعدة الاتصال في نقطة', metadata={'has_chapter': True}), Document(page_content='Title: الاتصال - اتصال مركب دالتين أو أكثر - الجزء الثالث, Chapter: اتصال مركب دالتين', metadata={'has_chapter': True}), Document(page_content='Title: الاتصال - اتصال مركب دالتين أو أكثر - الجزء الثالث, Chapter: مثال لاتصال مركب دالتين', metadata={'has_chapter': True}), Document(page_content='Title: الاتصال - اتصال مركب دالتين أو أكثر - الجزء الثالث, Chapter: مركب 4 دوال', metadata={'has_chapter': True}), Document(page_content='Title: الاتصال - اتصال مركب دالتين أو أكثر - الجزء الثالث, Chapter: مركب دالتين', metadata={'has_chapter': True}), Document(page_content='Title: الاتصال - اتصال مركب دالتين أو أكثر - الجزء الثالث, Chapter: مقدمة', metadata={'has_chapter': True}), Document(page_content='Title: تمرين سهل ورغم ذلك لن تستطيع حله بسهولة - السهل الممتنع - الحل, Chapter: No chapter', metadata={'has_chapter': False}), Document(page_content='Title: حساب قيمة هذا العدد - سؤال تجيب عليه في أقل من 20 ثانية, Chapter: No chapter', metadata={'has_chapter': False}), Document(page_content='Title: حساب قيمة المجهول داخل المعامل في معادلة من الدرجة الثالثة - أولمبياد الصين, Chapter: No chapter', metadata={'has_chapter': False}), Document(page_content='Title: ما هي الدالة؟ طريقة عملها؟ شروطها؟ خصائصها؟ - فيديو يشرح أصعب مفهوم في الرياضيات - مفهوم الدالة, Chapter: الدالة ومكوناتها', metadata={'has_chapter': True}), Document(page_content='Title: ما هي الدالة؟ طريقة عملها؟ شروطها؟ خصائصها؟ - فيديو يشرح أصعب مفهوم في الرياضيات - مفهوم الدالة, Chapter: شروط تحقق الدالة', metadata={'has_chapter': True}), Document(page_content='Title: ما هي الدالة؟ طريقة عملها؟ شروطها؟ خصائصها؟ - فيديو يشرح أصعب مفهوم في الرياضيات - مفهوم الدالة, Chapter: صورة الدالة', metadata={'has_chapter': True}), Document(page_content='Title: ما هي الدالة؟ طريقة عملها؟ شروطها؟ خصائصها؟ - فيديو يشرح أصعب مفهوم في الرياضيات - مفهوم الدالة, Chapter: غير المعرف', metadata={'has_chapter': True}), Document(page_content='Title: ما هي الدالة؟ طريقة عملها؟ شروطها؟ خصائصها؟ - فيديو يشرح أصعب مفهوم في الرياضيات - مفهوم الدالة, Chapter: قصور الدالة', metadata={'has_chapter': True}), Document(page_content='Title: ما هي الدالة؟ طريقة عملها؟ شروطها؟ خصائصها؟ - فيديو يشرح أصعب مفهوم في الرياضيات - مفهوم الدالة, Chapter: من النظري إلى التطبيقي', metadata={'has_chapter': True}), Document(page_content='Title: الاتصال - الاتصال في مجال - الجزء الرابع, Chapter: الاتصال على المجال المغلق', metadata={'has_chapter': True}), Document(page_content='Title: الاتصال - الاتصال في مجال - الجزء الرابع, Chapter: الاتصال على المجال نصف المفتوح نصف المغلق', metadata={'has_chapter': True}), Document(page_content='Title: الاتصال - الاتصال في مجال - الجزء الرابع, Chapter: الانصال على المجال المفتوح', metadata={'has_chapter': True}), Document(page_content='Title: الاتصال - الاتصال في مجال - الجزء الرابع, Chapter: الدوال الاعتيادية', metadata={'has_chapter': True}), Document(page_content='Title: الاتصال - الاتصال في مجال - الجزء الرابع, Chapter: خاتمة', metadata={'has_chapter': True}), Document(page_content='Title: الاتصال - الاتصال في مجال - الجزء الرابع, Chapter: مقدمة إلى المجال', metadata={'has_chapter': True}), Document(page_content='Title: الاستعداد للمباريات - التمرين الرابع, Chapter: No chapter', metadata={'has_chapter': False}), Document(page_content='Title: الاستعداد للمباريات - التمرين الخامس - شرح للأعداد العقدية, Chapter: No chapter', metadata={'has_chapter': False}), Document(page_content='Title: الاستعداد للمباريات - التمرين السادس, Chapter: No chapter', metadata={'has_chapter': False}), Document(page_content='Title: مباراة ENSA 2022 السؤال الأول, Chapter: No chapter', metadata={'has_chapter': False}), Document(page_content='Title: الاتصال - اتصال الدوال الاعتيادية - الجزء الخامس, Chapter: اتصال الدوال الثابتة', metadata={'has_chapter': True}), Document(page_content='Title: الاتصال - اتصال الدوال الاعتيادية - الجزء الخامس, Chapter: الدوال الثابتة والمنعدمة', metadata={'has_chapter': True}), Document(page_content='Title: الاتصال - اتصال الدوال الاعتيادية - الجزء الخامس, Chapter: الدوال الجذرية', metadata={'has_chapter': True}), Document(page_content='Title: الاتصال - اتصال الدوال الاعتيادية - الجزء الخامس, Chapter: الدوال الحدودية', metadata={'has_chapter': True}), Document(page_content='Title: الاتصال - اتصال الدوال الاعتيادية - الجزء الخامس, Chapter: الدوال الخطية', metadata={'has_chapter': True}), Document(page_content='Title: الاتصال - اتصال الدوال الاعتيادية - الجزء الخامس, Chapter: الدوال الكسرية', metadata={'has_chapter': True}), Document(page_content='Title: الاتصال - اتصال الدوال الاعتيادية - الجزء الخامس, Chapter: العمليات على الدوال المتصلة', metadata={'has_chapter': True}), Document(page_content='Title: الاتصال - مبرهنة القيم الوسطية - الجزء السادس, Chapter: حالة عامة لمبرهنة القيم الوسطية', metadata={'has_chapter': True}), Document(page_content='Title: الاتصال - مبرهنة القيم الوسطية - الجزء السادس, Chapter: شرح قاعدة مبرهنة القيم الوسطية', metadata={'has_chapter': True}), Document(page_content='Title: الاتصال - مبرهنة القيم الوسطية - الجزء السادس, Chapter: مثال سهل', metadata={'has_chapter': True}), Document(page_content='Title: الاتصال - مبرهنة القيم الوسطية - الجزء السادس, Chapter: مثال صعب', metadata={'has_chapter': True}), Document(page_content='Title: الاتصال - مبرهنة القيم الوسطية - الجزء السادس, Chapter: مقدمة', metadata={'has_chapter': True}), Document(page_content='Title: تمرين كلاسيكي لمبرهنة القيم الوَسَطِيَّة - تمارين وحلول, Chapter: No chapter', metadata={'has_chapter': False}), Document(page_content='Title: الاشتقاق - السرعة المتوسطة - الجزء الأول, Chapter: السرعة المتوسطة', metadata={'has_chapter': True}), Document(page_content='Title: الاشتقاق - السرعة المتوسطة - الجزء الأول, Chapter: الفرضية الأولى', metadata={'has_chapter': True}), Document(page_content='Title: الاشتقاق - السرعة المتوسطة - الجزء الأول, Chapter: النهاية', metadata={'has_chapter': True}), Document(page_content='Title: الاشتقاق - السرعة المتوسطة - الجزء الأول, Chapter: سؤال وجواب', metadata={'has_chapter': True}), Document(page_content='Title: الاشتقاق - السرعة المتوسطة - الجزء الأول, Chapter: مقدمة للحلقة القادمة', metadata={'has_chapter': True}), Document(page_content='Title: الرياضيات خلف الزلازل - زلزال المغرب, Chapter: الخاتمة', metadata={'has_chapter': True}), Document(page_content='Title: الرياضيات خلف الزلازل - زلزال المغرب, Chapter: المعادلة الموجية', metadata={'has_chapter': True}), Document(page_content='Title: الرياضيات خلف الزلازل - زلزال المغرب, Chapter: تحويل فورييه', metadata={'has_chapter': True}), Document(page_content='Title: الرياضيات خلف الزلازل - زلزال المغرب, Chapter: توزيع بواسون', metadata={'has_chapter': True}), Document(page_content='Title: الرياضيات خلف الزلازل - زلزال المغرب, Chapter: معادلة ريختر', metadata={'has_chapter': True}), Document(page_content='Title: الرياضيات خلف الزلازل - زلزال المغرب, Chapter: مقدمة', metadata={'has_chapter': True}), Document(page_content='Title: الاشتقاق - السرعة المتجهة والاشتقاق - الجزء الثاني, Chapter: الإزاحة', metadata={'has_chapter': True}), Document(page_content='Title: الاشتقاق - السرعة المتجهة والاشتقاق - الجزء الثاني, Chapter: التعميم ومقدمة إلى الاشتقاق', metadata={'has_chapter': True}), Document(page_content='Title: الاشتقاق - السرعة المتجهة والاشتقاق - الجزء الثاني, Chapter: الزمن والسرعة المتجهة اللحظية', metadata={'has_chapter': True}), Document(page_content='Title: الاشتقاق - السرعة المتجهة والاشتقاق - الجزء الثاني, Chapter: السرعة المتجهة', metadata={'has_chapter': True}), Document(page_content='Title: الاشتقاق - السرعة المتجهة والاشتقاق - الجزء الثاني, Chapter: الفرق بين المسافة والإزاحة', metadata={'has_chapter': True}), Document(page_content='Title: الاشتقاق - السرعة المتجهة والاشتقاق - الجزء الثاني, Chapter: المسافة', metadata={'has_chapter': True}), Document(page_content='Title: الاشتقاق - السرعة المتجهة والاشتقاق - الجزء الثاني, Chapter: مقدمة إلى الإزاحة', metadata={'has_chapter': True}), Document(page_content='Title: مقدمة في الخوارزميات - الجزء الأول, Chapter: No chapter', metadata={'has_chapter': False}), Document(page_content='Title: الاشتقاق - الميل أو الانحدار - الجزء الثالث, Chapter: أهمية هذه الحلقة', metadata={'has_chapter': True}), Document(page_content='Title: الاشتقاق - الميل أو الانحدار - الجزء الثالث, Chapter: اشتقاق الدالة الخطية', metadata={'has_chapter': True}), Document(page_content='Title: الاشتقاق - الميل أو الانحدار - الجزء الثالث, Chapter: التعريف بالميل', metadata={'has_chapter': True}), Document(page_content='Title: الاشتقاق - الميل أو الانحدار - الجزء الثالث, Chapter: الدالة الخطية', metadata={'has_chapter': True}), Document(page_content='Title: الاشتقاق - الميل أو الانحدار - الجزء الثالث, Chapter: حساب الميل', metadata={'has_chapter': True}), Document(page_content='Title: الاشتقاق - الميل أو الانحدار - الجزء الثالث, Chapter: شعار القناة', metadata={'has_chapter': True}), Document(page_content='Title: الاشتقاق - الميل أو الانحدار - الجزء الثالث, Chapter: مقدمة فلسطينية', metadata={'has_chapter': True}), Document(page_content='Title: الحلقة 7: الاقتضاء المادي والثنائي، والتكافؤ - المنطق, Chapter: اقتضاءات مادية مرتبطة', metadata={'has_chapter': True}), Document(page_content='Title: الحلقة 7: الاقتضاء المادي والثنائي، والتكافؤ - المنطق, Chapter: الاقتضاء الثنائي', metadata={'has_chapter': True}), Document(page_content='Title: الحلقة 7: الاقتضاء المادي والثنائي، والتكافؤ - المنطق, Chapter: الاقتضاء الثنائي والتكافؤ', metadata={'has_chapter': True}), Document(page_content='Title: الحلقة 7: الاقتضاء المادي والثنائي، والتكافؤ - المنطق, Chapter: الاقتضاء المادي', metadata={'has_chapter': True}), Document(page_content='Title: الحلقة 7: الاقتضاء المادي والثنائي، والتكافؤ - المنطق, Chapter: ترتيب العمليات', metadata={'has_chapter': True}), Document(page_content='Title: الحلقة 7: الاقتضاء المادي والثنائي، والتكافؤ - المنطق, Chapter: خاتمة', metadata={'has_chapter': True}), Document(page_content='Title: الحلقة 7: الاقتضاء المادي والثنائي، والتكافؤ - المنطق, Chapter: مقدمة', metadata={'has_chapter': True}), Document(page_content='Title: الحلقة 7: الاقتضاء المادي والثنائي، والتكافؤ - المنطق, Chapter: نفي الاقتضاء', metadata={'has_chapter': True}), Document(page_content='Title: الاشتقاق - من القاطع إلى المماس - الجزء الرابع, Chapter: إيجاد صيغة عامة للمماس', metadata={'has_chapter': True}), Document(page_content='Title: الاشتقاق - من القاطع إلى المماس - الجزء الرابع, Chapter: الخاتمة', metadata={'has_chapter': True}), Document(page_content='Title: الاشتقاق - من القاطع إلى المماس - الجزء الرابع, Chapter: المشتقة', metadata={'has_chapter': True}), Document(page_content='Title: الاشتقاق - من القاطع إلى المماس - الجزء الرابع, Chapter: تحديد صيغة المماس', metadata={'has_chapter': True}), Document(page_content='Title: الاشتقاق - من القاطع إلى المماس - الجزء الرابع, Chapter: تطبيق', metadata={'has_chapter': True}), Document(page_content='Title: الاشتقاق - من القاطع إلى المماس - الجزء الرابع, Chapter: تغيير الكتابة', metadata={'has_chapter': True}), Document(page_content='Title: الاشتقاق - من القاطع إلى المماس - الجزء الرابع, Chapter: مثال لدالة بميلين', metadata={'has_chapter': True}), Document(page_content='Title: الاشتقاق - من القاطع إلى المماس - الجزء الرابع, Chapter: مقدمة', metadata={'has_chapter': True}), Document(page_content='Title: الاشتقاق - من القاطع إلى المماس - الجزء الرابع, Chapter: مقدمة إلى القاطع', metadata={'has_chapter': True}), Document(page_content='Title: الاشتقاق - من القاطع إلى المماس - الجزء الرابع, Chapter: مقدمة إلى المماس', metadata={'has_chapter': True}), Document(page_content='Title: الاشتقاق - من القاطع إلى المماس - الجزء الرابع, Chapter: من القاطع إلى المماس', metadata={'has_chapter': True}), Document(page_content='Title: الاشتقاق - من القاطع إلى المماس - الجزء الرابع, Chapter: نعومة الدالة', metadata={'has_chapter': True}), Document(page_content='Title: الاشتقاق - الكتابات المختلفة للاشتقاق -الجزء الخامس, Chapter: أهمية الكتابة الثانية والاشتقاق الجزئي', metadata={'has_chapter': True}), Document(page_content='Title: الاشتقاق - الكتابات المختلفة للاشتقاق -الجزء الخامس, Chapter: أول كتابة مختلفة للاشتقاق', metadata={'has_chapter': True}), Document(page_content='Title: الاشتقاق - الكتابات المختلفة للاشتقاق -الجزء الخامس, Chapter: الخاتمة', metadata={'has_chapter': True}), Document(page_content='Title: الاشتقاق - الكتابات المختلفة للاشتقاق -الجزء الخامس, Chapter: الكتابة المعتادة للاشتقاق', metadata={'has_chapter': True}), Document(page_content='Title: الاشتقاق - الكتابات المختلفة للاشتقاق -الجزء الخامس, Chapter: ثاني كتابة مختلفة للاشتقاق', metadata={'has_chapter': True}), Document(page_content='Title: الاشتقاق - الكتابات المختلفة للاشتقاق -الجزء الخامس, Chapter: كتابات مختلفة للاشتقاق', metadata={'has_chapter': True})]\n"
     ]
    }
   ],
   "source": [
    "# Convert rows to Document objects\n",
    "docs = []\n",
    "for title, chapter in rows:\n",
    "    # Determine if the chapter is present\n",
    "    has_chapter = chapter is not None\n",
    "    \n",
    "    # Create a Document object for each row\n",
    "    doc = Document(\n",
    "        page_content=f\"Title: {title}, Chapter: {chapter if has_chapter else 'No chapter'}\",\n",
    "        metadata={\"has_chapter\": has_chapter}\n",
    "    )\n",
    "    docs.append(doc)\n",
    "\n",
    "print(docs)"
   ]
  },
  {
   "cell_type": "code",
   "execution_count": 90,
   "metadata": {},
   "outputs": [],
   "source": [
    "from langchain_community.vectorstores.chroma import Chroma\n",
    "from langchain_openai import OpenAIEmbeddings\n",
    "\n",
    "\n",
    "db = Chroma.from_documents(docs, OpenAIEmbeddings())"
   ]
  },
  {
   "cell_type": "code",
   "execution_count": 110,
   "metadata": {},
   "outputs": [],
   "source": [
    "from langchain.retrievers.self_query.base import SelfQueryRetriever\n",
    "from langchain.chains.query_constructor.base import AttributeInfo\n",
    "from langchain_openai import ChatOpenAI\n",
    "\n",
    "\n",
    "metadata_field_info = [\n",
    "    AttributeInfo(\n",
    "        name=\"has_chapter\",\n",
    "        description=\"Indicates whether the video title contains chapters. If 'True', chapters are present, which detail the main topics or sections of the video. If 'False', the video does not contain any chapters.\",\n",
    "        type=\"boolean\",\n",
    "    )\n",
    "]\n",
    "\n",
    "document_content_description = \"Titles of videos with their corresponding chapters.\"\n",
    "\n",
    "llm = ChatOpenAI(model_name=\"gpt-3.5-turbo\", temperature=0)\n",
    "\n",
    "first_retriever = SelfQueryRetriever.from_llm(\n",
    "    llm,\n",
    "    db,\n",
    "    document_content_description,\n",
    "    metadata_field_info,\n",
    "    enable_limit=True,\n",
    "    verbose=True,\n",
    "    search_kwargs={\"k\": 3},\n",
    ")"
   ]
  },
  {
   "cell_type": "code",
   "execution_count": 114,
   "metadata": {},
   "outputs": [],
   "source": [
    "# Combine context and question into a single query string\n",
    "query = \"أريد فيديو يتحدث عن المتجهة اللحظية\""
   ]
  },
  {
   "cell_type": "code",
   "execution_count": 115,
   "metadata": {},
   "outputs": [
    {
     "data": {
      "text/plain": [
       "[Document(page_content='Title: الاشتقاق - السرعة المتجهة والاشتقاق - الجزء الثاني, Chapter: الزمن والسرعة المتجهة اللحظية', metadata={'has_chapter': True}),\n",
       " Document(page_content='Title: الاشتقاق - السرعة المتجهة والاشتقاق - الجزء الثاني, Chapter: مقدمة إلى الإزاحة', metadata={'has_chapter': True}),\n",
       " Document(page_content='Title: الاشتقاق - السرعة المتجهة والاشتقاق - الجزء الثاني, Chapter: الفرق بين المسافة والإزاحة', metadata={'has_chapter': True})]"
      ]
     },
     "execution_count": 115,
     "metadata": {},
     "output_type": "execute_result"
    }
   ],
   "source": [
    "first_result = first_retriever.invoke({\"query\": query})\n",
    "first_result"
   ]
  },
  {
   "cell_type": "code",
   "execution_count": 70,
   "metadata": {},
   "outputs": [],
   "source": [
    "# from langchain.prompts import PromptTemplate\n",
    "\n",
    "# # Define your custom prompt template for retrieving video data\n",
    "# custom_prompt_template = PromptTemplate.from_template(\n",
    "#     \"\"\"Given the following question, return the exact video title in Arabic and relevant metadata (chapter).\n",
    "#     Do a keyword search first then a semantic search.\n",
    "#     If more than one document has been used, separate them with ONLY new line \\n.\n",
    "#     You should at least retrieve ONE document.\n",
    "#     If you didn't find any relevant document, retrieve the closest one to the question, based on chapters and content.\n",
    "#     Don't retrieve the same video document twice.\n",
    "#     Context: \n",
    "#     {context}\n",
    "#     Each document in the context is presented with Title followed by its chapter in the metadata.\n",
    "#     Question: {question}\n",
    "#     Answer:\"\"\"\n",
    "# )\n",
    "\n",
    "# # Assuming 'vectorstore' is properly set up for videos\n",
    "# second_retriever = db.as_retriever(\n",
    "#     search_type=\"mmr\", k=3, search_kwargs={\n",
    "#         \"fetch_k\": 10, \n",
    "#         \"lambda_mult\": 0.8\n",
    "#     }\n",
    "# )\n",
    "\n",
    "# # Modify the format_docs function to accept the documents list\n",
    "# def format_docs(docs):\n",
    "#     formatted_docs = []\n",
    "#     for i, doc in enumerate(docs, start=1):\n",
    "#         doc_description = f\"Document {i}:\\nTitle: {doc.page_content}\"\n",
    "#         doc_chapter = f\"Chapter: {doc.metadata.get('chapter', 'N/A')}\"  # Use 'N/A' if 'chapter' is not found\n",
    "#         formatted_doc = f\"{doc_description}\\n{doc_chapter}\\n-----\"\n",
    "#         formatted_docs.append(formatted_doc)\n",
    "#     return \"\\n\".join(formatted_docs)\n"
   ]
  },
  {
   "cell_type": "code",
   "execution_count": 71,
   "metadata": {},
   "outputs": [
    {
     "name": "stdout",
     "output_type": "stream",
     "text": [
      "Title: النهايات - التعريف - الجزء الثاني, Chapter: No chapter\n"
     ]
    }
   ],
   "source": [
    "# from langchain_core.runnables import RunnablePassthrough\n",
    "# from langchain_core.output_parsers import StrOutputParser\n",
    "\n",
    "# rag_chain = (\n",
    "#     {\"context\": second_retriever | format_docs, \"question\": RunnablePassthrough()}\n",
    "#     | custom_prompt_template\n",
    "#     | llm\n",
    "#     | StrOutputParser()\n",
    "# )\n",
    "\n",
    "# output = rag_chain.invoke(query)\n",
    "# print(output)"
   ]
  },
  {
   "cell_type": "code",
   "execution_count": 116,
   "metadata": {},
   "outputs": [
    {
     "name": "stdout",
     "output_type": "stream",
     "text": [
      "sqlite\n",
      "['VideoChapters']\n"
     ]
    }
   ],
   "source": [
    "from langchain_community.utilities.sql_database import SQLDatabase\n",
    "from langchain.chains import create_sql_query_chain\n",
    "\n",
    "db = SQLDatabase.from_uri(\"sqlite:///videos.db\")\n",
    "print(db.dialect)\n",
    "print(db.get_usable_table_names())\n",
    "# Connect to the SQLite database for SQL query execution\n",
    "sql_chain = create_sql_query_chain(llm, db)"
   ]
  },
  {
   "cell_type": "code",
   "execution_count": 117,
   "metadata": {},
   "outputs": [
    {
     "name": "stdout",
     "output_type": "stream",
     "text": [
      "[('الاشتقاق - السرعة المتجهة والاشتقاق - الجزء الثاني', 'https://youtu.be/HlTAVqpODq0&t=529')]\n",
      "[('الاشتقاق - السرعة المتجهة والاشتقاق - الجزء الثاني', 'https://youtu.be/HlTAVqpODq0&t=59')]\n",
      "[('الاشتقاق - السرعة المتجهة والاشتقاق - الجزء الثاني', 'https://youtu.be/HlTAVqpODq0&t=154')]\n"
     ]
    }
   ],
   "source": [
    "import ast\n",
    "\n",
    "# Function to extract title and chapter from the page_content\n",
    "def extract_title_and_chapter(page_content):\n",
    "    # Assuming the format is 'Title: <title>, Chapter: <chapter>'\n",
    "    title_part, chapter_part = page_content.split(\", Chapter: \")\n",
    "    title = title_part.split(\"Title: \")[1]\n",
    "    chapter = chapter_part if chapter_part != \"No chapter\" else None\n",
    "    return title, chapter\n",
    "\n",
    "sql_outputs = []\n",
    "for document in first_result:\n",
    "    title, chapter = extract_title_and_chapter(document.page_content)\n",
    "    # Dynamically construct SQL query\n",
    "    sql_query = f\"SELECT Title, Link FROM VideoChapters WHERE Title = '{title}' AND (Chapter = '{chapter}' OR Chapter IS NULL)\"\n",
    "    sql_output = db.run(sql_query)\n",
    "    # print(sql_query)\n",
    "    try:\n",
    "        parsed_output = ast.literal_eval(sql_output)\n",
    "        if isinstance(parsed_output, list):\n",
    "            for record in parsed_output:\n",
    "                # Assuming record format is correct and contains all needed fields\n",
    "                merged_answer = f\"{record[0]} {record[1]}\"\n",
    "                sql_outputs.append(merged_answer)\n",
    "        else:\n",
    "            print(f\"Unexpected format: {sql_output}\")\n",
    "    except (ValueError, SyntaxError):\n",
    "        print(f\"Could not parse output: {sql_output}\")\n",
    "    print(sql_output)"
   ]
  }
 ],
 "metadata": {
  "kernelspec": {
   "display_name": "Python 3",
   "language": "python",
   "name": "python3"
  },
  "language_info": {
   "codemirror_mode": {
    "name": "ipython",
    "version": 3
   },
   "file_extension": ".py",
   "mimetype": "text/x-python",
   "name": "python",
   "nbconvert_exporter": "python",
   "pygments_lexer": "ipython3",
   "version": "3.10.11"
  }
 },
 "nbformat": 4,
 "nbformat_minor": 2
}
